{
 "cells": [
  {
   "cell_type": "code",
   "execution_count": 1,
   "metadata": {},
   "outputs": [],
   "source": [
    "#Задание 1\n"
   ]
  },
  {
   "cell_type": "code",
   "execution_count": 2,
   "metadata": {},
   "outputs": [
    {
     "data": {
      "text/plain": [
       "True"
      ]
     },
     "execution_count": 2,
     "metadata": {},
     "output_type": "execute_result"
    }
   ],
   "source": [
    "phrase_1 = 'Насколько проще было бы писать программы, если бы не заказчики'\n",
    "phrase_2 = '640Кб должно хватить для любых задач. Билл Гейтс (по легенде)'\n",
    "phrase_1 > phrase_2"
   ]
  },
  {
   "cell_type": "code",
   "execution_count": 3,
   "metadata": {},
   "outputs": [
    {
     "data": {
      "text/plain": [
       "True"
      ]
     },
     "execution_count": 3,
     "metadata": {},
     "output_type": "execute_result"
    }
   ],
   "source": [
    "phrase_1 = '640Кб должно хватить для любых задач. Билл Гейтс (по легенде)'\n",
    "phrase_2 = 'Насколько проще было бы писать программы, если бы не заказчики'\n",
    "phrase_2 > phrase_1 "
   ]
  },
  {
   "cell_type": "code",
   "execution_count": 5,
   "metadata": {},
   "outputs": [
    {
     "data": {
      "text/plain": [
       "True"
      ]
     },
     "execution_count": 5,
     "metadata": {},
     "output_type": "execute_result"
    }
   ],
   "source": [
    "phrase_1 = 'Насколько проще было бы писать программы, если бы не заказчики'\n",
    "phrase_2 = 'Насколько проще было бы писать программы, если бы не заказчики'\n",
    "phrase_2 == phrase_1 "
   ]
  },
  {
   "cell_type": "code",
   "execution_count": 6,
   "metadata": {},
   "outputs": [],
   "source": [
    "#Задание 2"
   ]
  },
  {
   "cell_type": "code",
   "execution_count": 17,
   "metadata": {},
   "outputs": [
    {
     "name": "stdout",
     "output_type": "stream",
     "text": [
      "высокосный год\n"
     ]
    }
   ],
   "source": [
    "year = 2020\n",
    "if year % 4 == 0:\n",
    "    print (\"высокосный год\")\n",
    "else:  \n",
    "    print(\"обычный год\")"
   ]
  },
  {
   "cell_type": "code",
   "execution_count": 18,
   "metadata": {},
   "outputs": [
    {
     "name": "stdout",
     "output_type": "stream",
     "text": [
      "обычный год\n"
     ]
    }
   ],
   "source": [
    "year = 2019\n",
    "if year % 4 == 0:\n",
    "    print (\"высокосный год\")\n",
    "else:  \n",
    "    print(\"обычный год\")"
   ]
  },
  {
   "cell_type": "code",
   "execution_count": 1,
   "metadata": {},
   "outputs": [
    {
     "name": "stdout",
     "output_type": "stream",
     "text": [
      "Введите день рождения:8\n",
      "Введите месяц рождения:11\n",
      "знак зодиака: Скорпион\n"
     ]
    }
   ],
   "source": [
    "#Задание 3\n",
    "\n",
    "date=int(input('Введите день рождения:'))\n",
    "month=int(input('Введите месяц рождения:'))\n",
    "if (date>=20 and date<=30 and month==4) or (month==5 and date>=1 and date<=20):\n",
    "    print('знак зодиака: Телец')\n",
    "    \n",
    "elif (date>=21 and date<=31 and month==5) or (month==6 and date>=1 and date<=21):\n",
    "    print('знак зодиака: Близнецы')\n",
    "    \n",
    "elif (date>=22 and date<=30 and month==6) or (month==7 and date>=1 and date<=22):\n",
    "    print('знак зодиака: Рак')\n",
    "\n",
    "elif (date>=23 and date<=31 and month==7) or (month==8 and date>=1 and date<=22):\n",
    "    print('знак зодиака: Лев')  \n",
    "\n",
    "elif (date>=23 and date<=31 and month==8) or (month==9 and date>=1 and date<=22):\n",
    "    print('знак зодиака: Дева') \n",
    "    \n",
    "elif (date>=23 and date<=30 and month==9) or (month==10 and date>=1 and date<=23):\n",
    "    print('знак зодиака: Весы')\n",
    "    \n",
    "elif (date>=24 and date<=31 and month==10) or (month==11 and date>=1 and date<=22):\n",
    "    print('знак зодиака: Скорпион')\n",
    "    \n",
    "elif (date>=23 and date<=30 and month==11) or (month==12 and date>=1 and date<=21):\n",
    "    print('знак зодиака: Стрелец')\n",
    "\n",
    "elif (date>=23 and date<=31 and month==12) or (month==1 and date>=1 and date<=20):\n",
    "    print('знак зодиака: Козерог')\n",
    "    \n",
    "elif (date>=21 and date<=31 and month==1) or (month==2 and date>=1 and date<=18):\n",
    "    print('знак зодиака: Водолей')   \n",
    "\n",
    "elif (date>=19 and date<=29 and month==2) or (month==3 and date>=1 and date<=20):\n",
    "    print('знак зодиака: Рыбы') \n",
    "    \n",
    "else:\n",
    "    print(\"Данные вередены неверно\")"
   ]
  },
  {
   "cell_type": "code",
   "execution_count": null,
   "metadata": {},
   "outputs": [],
   "source": [
    "#Задание 4"
   ]
  },
  {
   "cell_type": "code",
   "execution_count": 7,
   "metadata": {},
   "outputs": [
    {
     "name": "stdout",
     "output_type": "stream",
     "text": [
      "Введите ширину коробки:20\n",
      "Введите длинну коробки:15\n",
      "Введите высоту коробки:10\n",
      "Коробка №2\n"
     ]
    }
   ],
   "source": [
    "width=int(input('Введите ширину коробки:'))\n",
    "month=int(input('Введите длинну коробки:'))\n",
    "height=int(input('Введите высоту коробки:'))\n",
    "if (width<15 and length<15 and height<15):\n",
    "    print (\"Коробка №1\")\n",
    "elif (width>15 or length>15 or height>15 and width>50 and length>50 and height>50):\n",
    "    print (\"Коробка №2\")\n",
    "elif (width>200 or length>200 or height>200):\n",
    "    print (\"Упаковка для лыж\")\n",
    "else:\n",
    "    print (\"Стандартная коробка №3\")"
   ]
  },
  {
   "cell_type": "code",
   "execution_count": null,
   "metadata": {},
   "outputs": [],
   "source": []
  }
 ],
 "metadata": {
  "kernelspec": {
   "display_name": "Python 3",
   "language": "python",
   "name": "python3"
  },
  "language_info": {
   "codemirror_mode": {
    "name": "ipython",
    "version": 3
   },
   "file_extension": ".py",
   "mimetype": "text/x-python",
   "name": "python",
   "nbconvert_exporter": "python",
   "pygments_lexer": "ipython3",
   "version": "3.8.3"
  }
 },
 "nbformat": 4,
 "nbformat_minor": 4
}
